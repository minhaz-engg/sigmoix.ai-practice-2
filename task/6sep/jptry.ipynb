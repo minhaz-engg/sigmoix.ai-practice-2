{
 "cells": [
  {
   "cell_type": "code",
   "execution_count": 1,
   "id": "60ef1ef6",
   "metadata": {},
   "outputs": [
    {
     "data": {
      "text/plain": [
       "True"
      ]
     },
     "execution_count": 1,
     "metadata": {},
     "output_type": "execute_result"
    }
   ],
   "source": [
    "from firecrawl import FirecrawlApp\n",
    "from dotenv import load_dotenv\n",
    "import os\n",
    "\n",
    "load_dotenv()"
   ]
  },
  {
   "cell_type": "code",
   "execution_count": 2,
   "id": "b7f0ef03",
   "metadata": {},
   "outputs": [],
   "source": [
    "app = FirecrawlApp(api_key=os.getenv(\"FIRECRAWL_API_KEY\"))"
   ]
  },
  {
   "cell_type": "code",
   "execution_count": 3,
   "id": "97948e4d",
   "metadata": {},
   "outputs": [],
   "source": [
    "# Scrape a website:\n",
    "scrape_result = app.scrape_url(\n",
    "    url='https://www.daraz.com.bd/products/poedagar-stainless-steel-top-luxury-quartz-fashion-watch-for-men-i334810443-s2567781955.html', \n",
    "    formats=['markdown']\n",
    ")"
   ]
  },
  {
   "cell_type": "code",
   "execution_count": 9,
   "id": "422d6706",
   "metadata": {},
   "outputs": [
    {
     "name": "stdout",
     "output_type": "stream",
     "text": [
      "dict_keys(['aplus-exdata', 'ogUrl', 'ogTitle', 'og:url', 'aplus-cpvdata', 'robots', 'X-CSRF-TOKEN', 'language', 'data-spm', 'viewport', 'aplus-auto-exp', 'og:description', 'ogDescription', 'description', 'og:image', 'og:title', 'og:type', 'favicon', 'title', 'ogImage', 'scrapeId', 'sourceURL', 'url', 'statusCode', 'contentType', 'proxyUsed', 'creditsUsed'])\n"
     ]
    }
   ],
   "source": [
    "print(scrape_result.metadata.keys())\n",
    "\n",
    "# Print extracted information\n",
    "# print(\"Title:\", scrape_result.metadata.get('title'))\n",
    "# print(\"Description:\", scrape_result.metadata.get('description'))\n",
    "# print(\"Credits Used:\", scrape_result.metadata.get('creditsUsed'))\n",
    "# print(\"First 500 characters of Markdown:\", scrape_result.markdown[:500])"
   ]
  },
  {
   "cell_type": "code",
   "execution_count": 29,
   "id": "41a79c0f",
   "metadata": {},
   "outputs": [
    {
     "name": "stdout",
     "output_type": "stream",
     "text": [
      "1\n"
     ]
    }
   ],
   "source": [
    "print(scrape_result.metadata.get('creditsUsed'))"
   ]
  }
 ],
 "metadata": {
  "kernelspec": {
   "display_name": "Python 3",
   "language": "python",
   "name": "python3"
  },
  "language_info": {
   "codemirror_mode": {
    "name": "ipython",
    "version": 3
   },
   "file_extension": ".py",
   "mimetype": "text/x-python",
   "name": "python",
   "nbconvert_exporter": "python",
   "pygments_lexer": "ipython3",
   "version": "3.12.1"
  }
 },
 "nbformat": 4,
 "nbformat_minor": 5
}
